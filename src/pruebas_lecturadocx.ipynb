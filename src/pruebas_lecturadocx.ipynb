{
 "cells": [
  {
   "cell_type": "code",
   "execution_count": 2,
   "id": "e0ab9872-c473-46e0-88e5-ffa40f73b227",
   "metadata": {},
   "outputs": [],
   "source": [
    "from docx import Document"
   ]
  },
  {
   "cell_type": "code",
   "execution_count": 3,
   "id": "a9f662d5-43c6-4f5e-b1c8-4a42c170d6b1",
   "metadata": {},
   "outputs": [],
   "source": [
    "doc = Document(\"../data/INFORME 23042-01.docx\")"
   ]
  },
  {
   "cell_type": "code",
   "execution_count": 30,
   "id": "05b96f7c-f88b-461e-810e-9be9e527192f",
   "metadata": {},
   "outputs": [
    {
     "ename": "TypeError",
     "evalue": "'_Row' object is not iterable",
     "output_type": "error",
     "traceback": [
      "\u001b[0;31m---------------------------------------------------------------------------\u001b[0m",
      "\u001b[0;31mTypeError\u001b[0m                                 Traceback (most recent call last)",
      "Cell \u001b[0;32mIn[30], line 2\u001b[0m\n\u001b[1;32m      1\u001b[0m \u001b[38;5;28;01mfor\u001b[39;00m r \u001b[38;5;129;01min\u001b[39;00m doc\u001b[38;5;241m.\u001b[39mtables[\u001b[38;5;241m2\u001b[39m]\u001b[38;5;241m.\u001b[39mtable\u001b[38;5;241m.\u001b[39mrows:\n\u001b[0;32m----> 2\u001b[0m     \u001b[38;5;28;01mfor\u001b[39;00m c \u001b[38;5;129;01min\u001b[39;00m r:\n\u001b[1;32m      3\u001b[0m         \u001b[38;5;28mprint\u001b[39m(c\u001b[38;5;241m.\u001b[39mtext)\n",
      "\u001b[0;31mTypeError\u001b[0m: '_Row' object is not iterable"
     ]
    }
   ],
   "source": [
    "for r in doc.tables[2].table.rows:\n",
    "    for c in r:\n",
    "        print(c.text)"
   ]
  },
  {
   "cell_type": "code",
   "execution_count": 31,
   "id": "69ff6049-113b-4a8e-a7bf-0adbaa38a9b3",
   "metadata": {},
   "outputs": [],
   "source": [
    "table = doc.tables[2]"
   ]
  },
  {
   "cell_type": "code",
   "execution_count": 32,
   "id": "f9c640c4-c132-4bfb-9d4f-cd3ded804c44",
   "metadata": {},
   "outputs": [
    {
     "name": "stdout",
     "output_type": "stream",
     "text": [
      "Recepción de muestras\n",
      "27 de febrero de 2023\n",
      "Ensayo\n",
      "del 16 de marzo al 20 de abril de 2023\n"
     ]
    }
   ],
   "source": [
    "for i in table.table.rows:\n",
    "    for c in i.cells:\n",
    "        print(c.text)"
   ]
  },
  {
   "cell_type": "code",
   "execution_count": 33,
   "id": "8ba188b1-7118-4478-80f3-d01cefe586c3",
   "metadata": {},
   "outputs": [
    {
     "data": {
      "text/plain": [
       "<docx.table._Row at 0x7fe3d8d94d90>"
      ]
     },
     "execution_count": 33,
     "metadata": {},
     "output_type": "execute_result"
    }
   ],
   "source": [
    "table.table.add_row()"
   ]
  },
  {
   "cell_type": "code",
   "execution_count": 36,
   "id": "a68111a2-b691-43c9-bf4b-d85ec3a002f5",
   "metadata": {},
   "outputs": [
    {
     "name": "stdout",
     "output_type": "stream",
     "text": [
      "cell: Recepción de muestras\n",
      "cell: Recepción de muestras\n",
      "cell: 27 de febrero de 2023\n",
      "cell: 27 de febrero de 2023\n",
      "cell: Ensayo\n",
      "cell: Ensayo\n",
      "cell: del 16 de marzo al 20 de abril de 2023\n",
      "cell: del 16 de marzo al 20 de abril de 2023\n",
      "cell: \n",
      "cell: new\n",
      "cell: \n",
      "cell: new\n"
     ]
    }
   ],
   "source": [
    "for i in table.table.rows:\n",
    "    for c in i.cells:\n",
    "        print(f\"cell: {c.text}\")\n",
    "        if c.text==\"\":\n",
    "            c.text = \"new\"\n",
    "        print(f\"cell: {c.text}\")"
   ]
  },
  {
   "cell_type": "code",
   "execution_count": 40,
   "id": "edbbfc64-24bf-4d21-9dfa-3985543024a7",
   "metadata": {},
   "outputs": [],
   "source": [
    "table.table.row_cells(0)[0].text = \"hola\""
   ]
  },
  {
   "cell_type": "code",
   "execution_count": 41,
   "id": "047b3b71-dbf6-48a3-93f0-a7b00276961d",
   "metadata": {},
   "outputs": [
    {
     "name": "stdout",
     "output_type": "stream",
     "text": [
      "cell: hola\n",
      "cell: 27 de febrero de 2023\n",
      "cell: Ensayo\n",
      "cell: del 16 de marzo al 20 de abril de 2023\n",
      "cell: new\n",
      "cell: new\n"
     ]
    }
   ],
   "source": [
    "for i in table.table.rows:\n",
    "    for c in i.cells:\n",
    "        print(f\"cell: {c.text}\")"
   ]
  },
  {
   "cell_type": "code",
   "execution_count": 43,
   "id": "8605d6d5-e2aa-449c-9506-7c875823270f",
   "metadata": {},
   "outputs": [
    {
     "data": {
      "text/plain": [
       "3"
      ]
     },
     "execution_count": 43,
     "metadata": {},
     "output_type": "execute_result"
    }
   ],
   "source": [
    "len(table.table.rows)"
   ]
  },
  {
   "cell_type": "code",
   "execution_count": 44,
   "id": "fd1c7b9f-5e7f-40ee-bf6f-c339b8cb732c",
   "metadata": {},
   "outputs": [],
   "source": [
    "from utils_docx import add_row"
   ]
  },
  {
   "cell_type": "code",
   "execution_count": 45,
   "id": "05a38ead-6091-48f7-b4a5-63a3ab979788",
   "metadata": {},
   "outputs": [
    {
     "data": {
      "text/plain": [
       "(3, 2)"
      ]
     },
     "execution_count": 45,
     "metadata": {},
     "output_type": "execute_result"
    }
   ],
   "source": [
    "add_row(table)"
   ]
  }
 ],
 "metadata": {
  "kernelspec": {
   "display_name": "Python 3 (ipykernel)",
   "language": "python",
   "name": "python3"
  },
  "language_info": {
   "codemirror_mode": {
    "name": "ipython",
    "version": 3
   },
   "file_extension": ".py",
   "mimetype": "text/x-python",
   "name": "python",
   "nbconvert_exporter": "python",
   "pygments_lexer": "ipython3",
   "version": "3.11.3"
  }
 },
 "nbformat": 4,
 "nbformat_minor": 5
}
