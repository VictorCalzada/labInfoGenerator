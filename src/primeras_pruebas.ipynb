{
 "cells": [
  {
   "cell_type": "code",
   "execution_count": 1,
   "id": "ae415320-8b07-4366-b214-b7ce78f6068c",
   "metadata": {},
   "outputs": [],
   "source": [
    "import utils_table as ut"
   ]
  },
  {
   "cell_type": "code",
   "execution_count": 2,
   "id": "d3d75944-af1c-44c5-829e-4a5d4518860e",
   "metadata": {},
   "outputs": [],
   "source": [
    "file = \"../data/Agosto 2023/Hojas de ensayo/1.PLANTILLA CBT_prueba.xlsx\""
   ]
  },
  {
   "cell_type": "code",
   "execution_count": 3,
   "id": "01a9c3b7-d62a-498d-b209-69d8abd868cb",
   "metadata": {},
   "outputs": [],
   "source": [
    "file2 = \"../data/Agosto 2023/Hojas de ensayo/1.PLANTILLA CBT.xls\""
   ]
  },
  {
   "cell_type": "code",
   "execution_count": 4,
   "id": "5e819f29-cf53-4891-be9c-2c913728418c",
   "metadata": {},
   "outputs": [],
   "source": [
    "sheet_name=\"HOJA INFORME\"\n",
    "rows = [3, 18]\n",
    "cols = [\"B\", \"C\"]"
   ]
  },
  {
   "cell_type": "code",
   "execution_count": 5,
   "id": "9a507a6f-889b-4948-bdb3-58022f0ca91e",
   "metadata": {},
   "outputs": [
    {
     "name": "stderr",
     "output_type": "stream",
     "text": [
      "/home/victor/proyetos/labInfoReader/.venv/lib/python3.10/site-packages/openpyxl/worksheet/_reader.py:329: UserWarning: Data Validation extension is not supported and will be removed\n",
      "  warn(msg)\n"
     ]
    }
   ],
   "source": [
    "tabla1 = ut.read_table_op(file, sheet_name, rows, cols)"
   ]
  },
  {
   "cell_type": "code",
   "execution_count": 6,
   "id": "4d89f04a-87e9-4cf0-a49c-8f469215cd03",
   "metadata": {},
   "outputs": [
    {
     "data": {
      "text/plain": [
       "16"
      ]
     },
     "execution_count": 6,
     "metadata": {},
     "output_type": "execute_result"
    }
   ],
   "source": [
    "len(tabla1)"
   ]
  },
  {
   "cell_type": "code",
   "execution_count": 7,
   "id": "432631ef-8200-4b13-a4f8-bf007be1e0b8",
   "metadata": {},
   "outputs": [],
   "source": [
    "tabla2 = ut.read_table_xl(file2, sheet_name, rows, cols)"
   ]
  },
  {
   "cell_type": "code",
   "execution_count": 8,
   "id": "12a2cb21-0e23-4887-952f-5745133ae518",
   "metadata": {},
   "outputs": [
    {
     "data": {
      "text/plain": [
       "16"
      ]
     },
     "execution_count": 8,
     "metadata": {},
     "output_type": "execute_result"
    }
   ],
   "source": [
    "len(tabla2)"
   ]
  },
  {
   "cell_type": "code",
   "execution_count": 10,
   "id": "269c4feb-8084-48ef-baa6-41064aa48a9e",
   "metadata": {},
   "outputs": [
    {
     "name": "stderr",
     "output_type": "stream",
     "text": [
      "/home/victor/proyetos/labInfoReader/.venv/lib/python3.10/site-packages/openpyxl/worksheet/_reader.py:329: UserWarning: Data Validation extension is not supported and will be removed\n",
      "  warn(msg)\n"
     ]
    },
    {
     "data": {
      "text/plain": [
       "[('=\"Muestra \"&\\'HOJA DE TOMA DE DATOS\\'!C3&\\'HOJA DE TOMA DE DATOS\\'!B27&\" a \"&\\'HOJA DE TOMA DE DATOS\\'!C3&\\'HOJA DE TOMA DE DATOS\\'!B32',\n",
       "  None),\n",
       " ('• Carga de rotura en ensayo de tracción *',\n",
       "  '=\\'HOJA DE TOMA DE DATOS\\'!C16&\" kN\"'),\n",
       " ('=IF(\\'HOJA DE TOMA DE DATOS\\'!B17=\\'HOJA DE TOMA DE DATOS\\'!V91,\"• Carga máxima (80% de la carga de rotura)\",IF(\\'HOJA DE TOMA DE DATOS\\'!B17=\\'HOJA DE TOMA DE DATOS\\'!V90,\"• Carga máxima (70% de la carga de rotura)\",\"---\"))',\n",
       "  '=\\'HOJA DE TOMA DE DATOS\\'!C17&\" kN\"'),\n",
       " ('• Velocidad de carga', '=\\'HOJA DE TOMA DE DATOS\\'!C20:D20&\" kN/s\"'),\n",
       " ('Tiempo hasta rotura', None),\n",
       " ('=\"• \"&\\'HOJA DE TOMA DE DATOS\\'!$C$3&\" \"&\\'HOJA DE TOMA DE DATOS\\'!B27',\n",
       "  '=IF(\\'HOJA DE TOMA DE DATOS\\'!F36=\"\",\"---\",HOUR(\\'HOJA DE TOMA DE DATOS\\'!F36)&\" h, \"&MINUTE(\\'HOJA DE TOMA DE DATOS\\'!F36)&\" m y \"&SECOND(\\'HOJA DE TOMA DE DATOS\\'!F36)&\" ± 2 s\")'),\n",
       " ('=\"• \"&\\'HOJA DE TOMA DE DATOS\\'!$C$3&\" \"&\\'HOJA DE TOMA DE DATOS\\'!B28',\n",
       "  '=IF(\\'HOJA DE TOMA DE DATOS\\'!F37=\"\",\"---\",HOUR(\\'HOJA DE TOMA DE DATOS\\'!F37)&\" h, \"&MINUTE(\\'HOJA DE TOMA DE DATOS\\'!F37)&\" m y \"&SECOND(\\'HOJA DE TOMA DE DATOS\\'!F37)&\" ± 2 s\")'),\n",
       " ('=\"• \"&\\'HOJA DE TOMA DE DATOS\\'!$C$3&\" \"&\\'HOJA DE TOMA DE DATOS\\'!B29',\n",
       "  '=IF(\\'HOJA DE TOMA DE DATOS\\'!F38=\"\",\"---\",HOUR(\\'HOJA DE TOMA DE DATOS\\'!F38)&\" h, \"&MINUTE(\\'HOJA DE TOMA DE DATOS\\'!F38)&\" m y \"&SECOND(\\'HOJA DE TOMA DE DATOS\\'!F38)&\" ± 2 s\")'),\n",
       " ('=\"• \"&\\'HOJA DE TOMA DE DATOS\\'!$C$3&\" \"&\\'HOJA DE TOMA DE DATOS\\'!B30',\n",
       "  '=IF(\\'HOJA DE TOMA DE DATOS\\'!F39=\"\",\"---\",HOUR(\\'HOJA DE TOMA DE DATOS\\'!F39)&\" h, \"&MINUTE(\\'HOJA DE TOMA DE DATOS\\'!F39)&\" m y \"&SECOND(\\'HOJA DE TOMA DE DATOS\\'!F39)&\" ± 2 s\")'),\n",
       " ('=\"• \"&\\'HOJA DE TOMA DE DATOS\\'!$C$3&\" \"&\\'HOJA DE TOMA DE DATOS\\'!B31',\n",
       "  '=IF(\\'HOJA DE TOMA DE DATOS\\'!F40=\"\",\"---\",HOUR(\\'HOJA DE TOMA DE DATOS\\'!F40)&\" h, \"&MINUTE(\\'HOJA DE TOMA DE DATOS\\'!F40)&\" m y \"&SECOND(\\'HOJA DE TOMA DE DATOS\\'!F40)&\" ± 2 s\")'),\n",
       " ('=\"• \"&\\'HOJA DE TOMA DE DATOS\\'!$C$3&\" \"&\\'HOJA DE TOMA DE DATOS\\'!B32',\n",
       "  '=IF(\\'HOJA DE TOMA DE DATOS\\'!F41=\"\",\"---\",HOUR(\\'HOJA DE TOMA DE DATOS\\'!F41)&\" h, \"&MINUTE(\\'HOJA DE TOMA DE DATOS\\'!F41)&\" m y \"&SECOND(\\'HOJA DE TOMA DE DATOS\\'!F41)&\" ± 2 s\")'),\n",
       " ('Resumen de resultados', None),\n",
       " ('Minimo',\n",
       "  '=IF(\\'HOJA DE TOMA DE DATOS\\'!F42=\"\",\"---\",HOUR(\\'HOJA DE TOMA DE DATOS\\'!F42)&\" h, \"&MINUTE(\\'HOJA DE TOMA DE DATOS\\'!F42)&\" m y \"&SECOND(\\'HOJA DE TOMA DE DATOS\\'!F42)&\" ± 2 s\")'),\n",
       " ('Media',\n",
       "  '=IF(\\'HOJA DE TOMA DE DATOS\\'!F43=\"\",\"---\",HOUR(\\'HOJA DE TOMA DE DATOS\\'!F43)&\" h, \"&MINUTE(\\'HOJA DE TOMA DE DATOS\\'!F43)&\" m y \"&SECOND(\\'HOJA DE TOMA DE DATOS\\'!F43)&\" ± 2 s\")'),\n",
       " ('Mediana',\n",
       "  '=IF(\\'HOJA DE TOMA DE DATOS\\'!F44=\"\",\"---\",HOUR(\\'HOJA DE TOMA DE DATOS\\'!F44)&\" h, \"&MINUTE(\\'HOJA DE TOMA DE DATOS\\'!F44)&\" m y \"&SECOND(\\'HOJA DE TOMA DE DATOS\\'!F44)&\" ± 2 s\")'),\n",
       " ('Equpos empleados', \"=+'HOJA DE TOMA DE DATOS'!B67\")]"
      ]
     },
     "execution_count": 10,
     "metadata": {},
     "output_type": "execute_result"
    }
   ],
   "source": [
    "ut.read_table(file, sheet_name, rows, cols)"
   ]
  }
 ],
 "metadata": {
  "kernelspec": {
   "display_name": "Python 3 (ipykernel)",
   "language": "python",
   "name": "python3"
  },
  "language_info": {
   "codemirror_mode": {
    "name": "ipython",
    "version": 3
   },
   "file_extension": ".py",
   "mimetype": "text/x-python",
   "name": "python",
   "nbconvert_exporter": "python",
   "pygments_lexer": "ipython3",
   "version": "3.11.3"
  }
 },
 "nbformat": 4,
 "nbformat_minor": 5
}
